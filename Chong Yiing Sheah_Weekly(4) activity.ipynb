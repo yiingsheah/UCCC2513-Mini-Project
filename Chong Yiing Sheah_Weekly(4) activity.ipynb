{
 "cells": [
  {
   "cell_type": "markdown",
   "id": "ff9a9bb4",
   "metadata": {},
   "source": [
    "# Week4 Activity"
   ]
  },
  {
   "cell_type": "markdown",
   "id": "cfebebe5",
   "metadata": {},
   "source": [
    "## Question 1a\n"
   ]
  },
  {
   "cell_type": "code",
   "execution_count": 1,
   "id": "f35ae1d7",
   "metadata": {},
   "outputs": [],
   "source": [
    "import cv2 as cv\n",
    "import numpy as np"
   ]
  },
  {
   "cell_type": "code",
   "execution_count": 4,
   "id": "2d7b880e",
   "metadata": {},
   "outputs": [
    {
     "data": {
      "text/plain": [
       "<function destroyAllWindows>"
      ]
     },
     "execution_count": 4,
     "metadata": {},
     "output_type": "execute_result"
    }
   ],
   "source": [
    "img = cv.imread(\"baboon.jpg\")\n",
    "grayscale = cv.cvtColor(img, cv.COLOR_BGR2GRAY)\n",
    "\n",
    "cv.imshow(\"Original\", img)\n",
    "cv.imshow(\"Grayscale\", grayscale)\n",
    "\n",
    "cv.waitKey(0)\n",
    "cv.destroyAllWindows"
   ]
  },
  {
   "cell_type": "markdown",
   "id": "57899a76",
   "metadata": {},
   "source": [
    "## Question 1b"
   ]
  },
  {
   "cell_type": "code",
   "execution_count": 6,
   "id": "0121a341",
   "metadata": {},
   "outputs": [
    {
     "data": {
      "text/plain": [
       "<function destroyAllWindows>"
      ]
     },
     "execution_count": 6,
     "metadata": {},
     "output_type": "execute_result"
    }
   ],
   "source": [
    "img_grayscale = cv.cvtColor(grayscale, cv.COLOR_BGR2RGB)\n",
    "\n",
    "img3 = np.concatenate((img, img_grayscale), axis=1)\n",
    "\n",
    "cv.imshow(\"Image\", img3)\n",
    "cv.waitKey(0)\n",
    "cv.destroyAllWindows"
   ]
  },
  {
   "cell_type": "markdown",
   "id": "f6c40288",
   "metadata": {},
   "source": [
    "## Question 2"
   ]
  },
  {
   "cell_type": "code",
   "execution_count": 2,
   "id": "a0a6b633",
   "metadata": {},
   "outputs": [],
   "source": [
    "video = cv.VideoCapture(\"Burglary006_x264.mp4\")\n",
    "\n",
    "new_width = 250\n",
    "new_height = 150\n",
    "    \n",
    "if not video.isOpened():\n",
    "    print(\"Unable to create video\")\n",
    "\n",
    "result = cv.VideoWriter('smaller_img_pexels.avi', \n",
    "            cv.VideoWriter_fourcc(*'MJPG'), 10, (new_width, new_height))\n",
    "\n",
    "while video.isOpened():\n",
    "    ret, frame = video.read()\n",
    "    \n",
    "    if not ret:\n",
    "        print(\"Cannot receive frame.\")\n",
    "        break\n",
    "    \n",
    "    img_resize = cv.resize(frame, (new_width, new_height), interpolation = cv.INTER_LINEAR)\n",
    "\n",
    "    result.write(img_resize)\n",
    "    \n",
    "    cv.imshow(\"video\", img_resize)\n",
    "    \n",
    "    if cv.waitKey(1) & 0xFF == 27:\n",
    "        break\n",
    "\n",
    "video.release()\n",
    "result.release()\n",
    "cv.destroyAllWindows()"
   ]
  },
  {
   "cell_type": "markdown",
   "id": "f8c6c07d",
   "metadata": {},
   "source": [
    "## Question 3"
   ]
  },
  {
   "cell_type": "code",
   "execution_count": 40,
   "id": "bcac44d8",
   "metadata": {},
   "outputs": [],
   "source": [
    "# create color image\n",
    "color_img = np.zeros((400,400,3), np.uint8)\n",
    "color_img[:]=(255, 255, 0)\n",
    "\n",
    "# create random noise\n",
    "noise = np.random.normal(0, 1, color_img.size)\n",
    "noise = noise.reshape(color_img.shape[0], color_img.shape[1], color_img.shape[2]).astype('uint8')\n",
    "noise = color_img + color_img * noise\n",
    "\n",
    "# for grayscale image\n",
    "grayscale_img = cv.cvtColor(color_img, cv.COLOR_BGR2GRAY)\n",
    "noise2 = np.random.normal(0, 1, grayscale_img.size)\n",
    "noise2 = noise2.reshape(grayscale_img.shape[0], grayscale_img.shape[1]).astype('uint8')\n",
    "noise2 = grayscale_img + grayscale_img * noise2\n",
    "\n",
    "cv.imshow('color image', noise)\n",
    "cv.imshow('grayscale image', noise2)\n",
    "cv.waitKey(0)\n",
    "cv.destroyAllWindows()"
   ]
  }
 ],
 "metadata": {
  "kernelspec": {
   "display_name": "Python 3",
   "language": "python",
   "name": "python3"
  },
  "language_info": {
   "codemirror_mode": {
    "name": "ipython",
    "version": 3
   },
   "file_extension": ".py",
   "mimetype": "text/x-python",
   "name": "python",
   "nbconvert_exporter": "python",
   "pygments_lexer": "ipython3",
   "version": "3.8.8"
  }
 },
 "nbformat": 4,
 "nbformat_minor": 5
}
