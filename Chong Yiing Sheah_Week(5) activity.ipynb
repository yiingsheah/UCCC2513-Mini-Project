{
 "cells": [
  {
   "cell_type": "markdown",
   "id": "b9e31538",
   "metadata": {},
   "source": [
    "# Week 5 Activity"
   ]
  },
  {
   "cell_type": "code",
   "execution_count": 1,
   "id": "66a4000e",
   "metadata": {},
   "outputs": [
    {
     "data": {
      "text/plain": [
       "True"
      ]
     },
     "execution_count": 1,
     "metadata": {},
     "output_type": "execute_result"
    }
   ],
   "source": [
    "import sys\n",
    "# Python 3.7 is required\n",
    "assert sys.version_info >= (3,7)\n",
    "\n",
    "import cv2 as cv\n",
    "import numpy as np\n",
    "\n",
    "# Make sure that optimization is enabled\n",
    "if not cv.useOptimized():\n",
    "    cv.setUseOptimized(True)\n",
    "\n",
    "cv.useOptimized()"
   ]
  },
  {
   "cell_type": "markdown",
   "id": "fa66078d",
   "metadata": {},
   "source": [
    "## Exercise 1"
   ]
  },
  {
   "cell_type": "code",
   "execution_count": 6,
   "id": "706c6adb",
   "metadata": {},
   "outputs": [],
   "source": [
    "def crop_grid(img_copy, num_horizontal_grid, num_vertical_grid, line_color):\n",
    "    \"\"\"This function is to divide an image into smaller patches using cropping\"\"\"\n",
    "    \n",
    "    height, width = img.shape[:2]\n",
    "    \n",
    "    # M and N are basically number of pixels per patch\n",
    "    M, N = int(height/num_horizontal_grid), int(width/num_vertical_grid)\n",
    "\n",
    "    x1, y1 = 0, 0\n",
    "\n",
    "    for y in range(0, height, M):\n",
    "        for x in range(0, width, N):\n",
    "            \n",
    "            y1 = y + M    # lower right coordinate that will be used to construct rectangle\n",
    "            x1 = x + N\n",
    "        \n",
    "            # Check whether patch lower right coordinate exceeds image height and width\n",
    "            if x1 >= width and y1 >= height:\n",
    "                x1 = width - 1\n",
    "                y1 = height - 1\n",
    "                tile = img[y:height, x:width]\n",
    "                cv.rectangle(img_copy, (x, y), (x1, y1), line_color, 1)\n",
    "            # When patch lower right y-coordinate exceeds patch height\n",
    "            elif y1 >= height:\n",
    "                y1 = height - 1\n",
    "                cv.rectangle(img_copy, (x, y), (x1, y1), line_color, 1)\n",
    "\n",
    "            # When patch lower right x-coordinate exceeds patch width\n",
    "            elif x1 >= width:\n",
    "                x1 = width - 1\n",
    "                cv.rectangle(img_copy, (x, y), (x1, y1), line_color, 1)\n",
    "        \n",
    "            else:\n",
    "                cv.rectangle(img_copy, (x, y), (x1, y1), line_color, 1)\n",
    "\n",
    "    cv.imshow('Exercise 1', img_copy)\n",
    "    cv.waitKey(0)\n",
    "    cv.destroyAllWindows()"
   ]
  },
  {
   "cell_type": "code",
   "execution_count": 7,
   "id": "ebad12c6",
   "metadata": {},
   "outputs": [],
   "source": [
    "img = cv.imread('dog.jfif')\n",
    "img_copy = img.copy()\n",
    "\n",
    "crop_grid(img_copy, 2, 3, (0, 255, 0))"
   ]
  },
  {
   "cell_type": "markdown",
   "id": "b1b46e93",
   "metadata": {},
   "source": [
    "## Exercise 2"
   ]
  },
  {
   "cell_type": "code",
   "execution_count": 5,
   "id": "d69ffc1c",
   "metadata": {},
   "outputs": [],
   "source": [
    "src1 = cv.imread('lena.jfif')\n",
    "src2 = cv.imread('coins.jfif')\n",
    "\n",
    "# Resize img2\n",
    "src2 = cv.resize(src2, src1.shape[:2])\n",
    "\n",
    "for a in range(0, 100, 25):\n",
    "    alpha = a/100\n",
    "    beta = 1-alpha\n",
    "    dst = cv.addWeighted(src1, alpha, src2, beta, 0)\n",
    "    cv.imshow('Excercise 2', dst)\n",
    "    cv.waitKey(0)\n",
    "\n",
    "cv.destroyAllWindows()\n"
   ]
  },
  {
   "cell_type": "markdown",
   "id": "7a2156b4",
   "metadata": {},
   "source": [
    "## Exercise 3"
   ]
  },
  {
   "cell_type": "code",
   "execution_count": 3,
   "id": "2a824d7e",
   "metadata": {},
   "outputs": [],
   "source": [
    "img2 = cv.imread('lena.jpg')\n",
    "img2_copy = img2.copy()\n",
    "\n",
    "rows, cols = img2.shape[:2]\n",
    "\n",
    "# build a transformation matrix\n",
    "matrix = [[0.55, 0.45, 0], #x \n",
    "          [-0.45, 0.55, 100]] #y\n",
    " \n",
    "t = np.float32(matrix)\n",
    "\n",
    "dst1 = cv.warpAffine(img2_copy, t, (cols, rows))\n",
    "\n",
    "cv.imshow('Exercise 3', dst1)\n",
    "cv.waitKey(0)\n",
    "cv.destroyAllWindows()"
   ]
  },
  {
   "cell_type": "markdown",
   "id": "22c77cbf",
   "metadata": {},
   "source": [
    "## Exercise 4"
   ]
  },
  {
   "cell_type": "code",
   "execution_count": 4,
   "id": "9042584e",
   "metadata": {
    "scrolled": true
   },
   "outputs": [],
   "source": [
    "img3 = cv.imread('flower.jfif')\n",
    "img4 = cv.imread('native-bee.png')\n",
    "\n",
    "rows, cols, channels = img3.shape\n",
    "roi = img4[0:rows, 0:cols]\n",
    "\n",
    "img3gray = cv.cvtColor(img3, cv.COLOR_BGR2GRAY)\n",
    "ret, mask = cv.threshold(img3gray, 70, 255, cv.THRESH_BINARY)\n",
    "mask_inv = cv.bitwise_not(mask)\n",
    "\n",
    "img4_bg = cv.bitwise_and(roi, roi, mask = mask_inv)\n",
    "\n",
    "img3_fg = cv.bitwise_and(img3, img3, mask = mask)\n",
    "\n",
    "dst = cv.add(img4_bg, img3_fg)\n",
    "img4[0:rows, 0:cols ] = dst\n",
    "\n",
    "cv.imshow('Exercise 4', img4)\n",
    "cv.waitKey(0)\n",
    "cv.destroyAllWindows()"
   ]
  },
  {
   "cell_type": "code",
   "execution_count": null,
   "id": "971fb848",
   "metadata": {},
   "outputs": [],
   "source": []
  }
 ],
 "metadata": {
  "kernelspec": {
   "display_name": "Python 3 (ipykernel)",
   "language": "python",
   "name": "python3"
  },
  "language_info": {
   "codemirror_mode": {
    "name": "ipython",
    "version": 3
   },
   "file_extension": ".py",
   "mimetype": "text/x-python",
   "name": "python",
   "nbconvert_exporter": "python",
   "pygments_lexer": "ipython3",
   "version": "3.10.5"
  }
 },
 "nbformat": 4,
 "nbformat_minor": 5
}
